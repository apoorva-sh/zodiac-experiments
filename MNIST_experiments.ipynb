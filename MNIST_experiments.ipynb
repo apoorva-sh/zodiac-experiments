{
 "cells": [
  {
   "cell_type": "code",
   "execution_count": 1,
   "metadata": {},
   "outputs": [],
   "source": [
    "import numpy as np\n",
    "import pandas as pd\n",
    "\n",
    "import matplotlib.pyplot as plt\n",
    "import math\n",
    "\n",
    "from sklearn.datasets import load_breast_cancer\n",
    "from sklearn.model_selection import train_test_split\n",
    "from sklearn.decomposition import PCA\n",
    "from sklearn.metrics import f1_score\n",
    "from sklearn.metrics import accuracy_score\n",
    "from sklearn.metrics import precision_score\n",
    "from sklearn.metrics import recall_score\n",
    "\n",
    "\n"
   ]
  },
  {
   "cell_type": "code",
   "execution_count": 2,
   "metadata": {},
   "outputs": [],
   "source": [
    "test = pd.read_csv('data/mnist_test.csv')\n",
    "train = pd.read_csv('data/mnist_train.csv')"
   ]
  },
  {
   "cell_type": "code",
   "execution_count": 3,
   "metadata": {},
   "outputs": [],
   "source": [
    "train_x = train['label']\n",
    "test_x = test['label']"
   ]
  },
  {
   "cell_type": "code",
   "execution_count": null,
   "metadata": {},
   "outputs": [],
   "source": [
    "from sklearn.svm import SVC\n",
    "del train[\"label\"]\n",
    "clf = SVC(gamma='auto')\n",
    "clf.fit(train, train_x) "
   ]
  },
  {
   "cell_type": "code",
   "execution_count": null,
   "metadata": {},
   "outputs": [],
   "source": [
    "res = test[\"label\"]\n",
    "del test[\"label\"]\n",
    "a = clf.predict(test)\n",
    "len(a)"
   ]
  },
  {
   "cell_type": "code",
   "execution_count": null,
   "metadata": {},
   "outputs": [],
   "source": [
    "train_len = len(train)"
   ]
  },
  {
   "cell_type": "code",
   "execution_count": null,
   "metadata": {},
   "outputs": [],
   "source": [
    "data = pd.concat([train, test], axis=0)\n",
    "data_labels = pd.concat([train_x, test_x], axis=0)\n",
    "data_labels = data_labels.values.tolist()"
   ]
  },
  {
   "cell_type": "code",
   "execution_count": null,
   "metadata": {},
   "outputs": [],
   "source": [
    "map(int,data_labels)"
   ]
  },
  {
   "cell_type": "code",
   "execution_count": null,
   "metadata": {},
   "outputs": [],
   "source": [
    "pca = PCA(n_components=2)\n",
    "principalComponents = pca.fit_transform(data)\n",
    "principalDf = pd.DataFrame(data = principalComponents\n",
    "             , columns = ['principal component 1', 'principal component 2'])\n",
    "\n"
   ]
  },
  {
   "cell_type": "code",
   "execution_count": null,
   "metadata": {},
   "outputs": [],
   "source": [
    "principalDf['label'] = data_labels"
   ]
  },
  {
   "cell_type": "code",
   "execution_count": null,
   "metadata": {},
   "outputs": [],
   "source": [
    "principalDf"
   ]
  },
  {
   "cell_type": "code",
   "execution_count": null,
   "metadata": {},
   "outputs": [],
   "source": [
    "train, test = principalDf.iloc[:train_len, :], principalDf.iloc[train_len:, :]"
   ]
  },
  {
   "cell_type": "code",
   "execution_count": null,
   "metadata": {},
   "outputs": [],
   "source": [
    "test['pred'] = a"
   ]
  },
  {
   "cell_type": "code",
   "execution_count": null,
   "metadata": {},
   "outputs": [],
   "source": [
    "c = []\n",
    "for i in train.values:\n",
    "    if int(i[2]) == 0:\n",
    "        c.append('C0')\n",
    "    elif int(i[2]) == 1:\n",
    "        c.append('C1')\n",
    "    elif int(i[2]) == 2:\n",
    "        c.append('C2')\n",
    "    elif int(i[2]) == 3:\n",
    "        c.append('C3')\n",
    "    elif int(i[2]) == 4:\n",
    "        c.append('C4')\n",
    "    elif int(i[2]) == 5:\n",
    "        c.append('C5')\n",
    "    elif int(i[2]) == 6:\n",
    "        c.append('C6')\n",
    "    elif int(i[2]) == 7:\n",
    "        c.append('C7')\n",
    "    elif int(i[2]) == 8:\n",
    "        c.append('C8')\n",
    "    elif int(i[2]) == 9:\n",
    "        c.append('C9')\n",
    "    \n",
    "\n",
    "\n",
    "\n",
    "plt = train.plot.scatter(x = \"principal component 1\", y=\"principal component 2\", \n",
    "                        c = c, s = 50, alpha = 0.5,figsize = (8,8),grid = True,title=\"TRAIN\")\n",
    "\n"
   ]
  },
  {
   "cell_type": "code",
   "execution_count": null,
   "metadata": {},
   "outputs": [],
   "source": [
    "#Grid size for test for perfect size\n",
    "\n",
    "max_1 = test.loc[test['principal component 1'].idxmax()]['principal component 1']\n",
    "\n",
    "max_2 = test.loc[test['principal component 2'].idxmax()]['principal component 2']\n",
    "\n",
    "min_1 = test.loc[test['principal component 1'].idxmin()]['principal component 1']\n",
    "\n",
    "min_2 = test.loc[test['principal component 2'].idxmin()]['principal component 2']\n",
    "\n",
    "x_axis = round((max_1 - min_1)/10)\n",
    "\n",
    "y_axis = round((max_2-min_2)/10)\n",
    "\n",
    "x_axis = x_axis.as_integer_ratio()[0]\n",
    "\n",
    "y_axis = y_axis.as_integer_ratio()[0]\n",
    "\n",
    "x_l = []\n",
    "y_l = []\n",
    "for i in range(0,11):\n",
    "    x_l.append(round(min_1 + x_axis*i))\n",
    "\n",
    "for i in range(0,11):\n",
    "    y_l.append(round(min_2 + y_axis*i))\n"
   ]
  },
  {
   "cell_type": "code",
   "execution_count": null,
   "metadata": {},
   "outputs": [],
   "source": [
    "x_l"
   ]
  },
  {
   "cell_type": "code",
   "execution_count": null,
   "metadata": {},
   "outputs": [],
   "source": [
    "y_l"
   ]
  },
  {
   "cell_type": "code",
   "execution_count": null,
   "metadata": {},
   "outputs": [],
   "source": [
    "def genXY(h,data):\n",
    "    \"\"\"\n",
    "    generate x and y grid values of height h\n",
    "    \"\"\"\n",
    "    minx = min(data['principal component 1'])\n",
    "    maxx = max(data['principal component 1']) + 1\n",
    "    numDivX = round((maxx - minx)/h)\n",
    "    print(numDivX)\n",
    "    x_l = []\n",
    "    for i in range(1,numDivX+1):\n",
    "        x_l.append((i*h) +minx)\n",
    "    \n",
    "    if(x_l[len(x_l)-1] != maxx):\n",
    "        x_l.append(maxx)\n",
    "        \n",
    "        \n",
    "    miny = min(data['principal component 2'])\n",
    "    maxy = max(data['principal component 2'])\n",
    "    numDivY = round((maxy - miny)/h)\n",
    "    print(numDivY)\n",
    "    y_l = []\n",
    "    for i in range(1,numDivY+1):\n",
    "        y_l.append((i*h) + miny)\n",
    "    \n",
    "    if(y_l[len(y_l)-1] != maxy):\n",
    "        y_l.append(maxy)\n",
    "    \n",
    "    return x_l,y_l\n",
    "        "
   ]
  },
  {
   "cell_type": "code",
   "execution_count": null,
   "metadata": {},
   "outputs": [],
   "source": [
    "x_l_1, y_l_1 = genXY(50,test)"
   ]
  },
  {
   "cell_type": "code",
   "execution_count": null,
   "metadata": {},
   "outputs": [],
   "source": [
    "c = []\n",
    "for i in test.values:\n",
    "    if int(i[2]) == 0:\n",
    "        c.append('C0')\n",
    "    elif int(i[2]) == 1:\n",
    "        c.append('C1')\n",
    "    elif int(i[2]) == 2:\n",
    "        c.append('C2')\n",
    "    elif int(i[2]) == 3:\n",
    "        c.append('C3')\n",
    "    elif int(i[2]) == 4:\n",
    "        c.append('C4')\n",
    "    elif int(i[2]) == 5:\n",
    "        c.append('C5')\n",
    "    elif int(i[2]) == 6:\n",
    "        c.append('C6')\n",
    "    elif int(i[2]) == 7:\n",
    "        c.append('C7')\n",
    "    elif int(i[2]) == 8:\n",
    "        c.append('C8')\n",
    "    elif int(i[2]) == 9:\n",
    "        c.append('C9')\n",
    "    \n",
    "\n"
   ]
  },
  {
   "cell_type": "code",
   "execution_count": null,
   "metadata": {},
   "outputs": [],
   "source": [
    "fig = plt.figure(figsize = (16,8))\n",
    "plt.xticks(x_l_1)\n",
    "plt.yticks(y_l_1)\n",
    "ax = fig.add_subplot(1,1,1) \n",
    "ax.set_xlabel('Principal Component 1', fontsize = 15)\n",
    "ax.set_ylabel('Principal Component 2', fontsize = 15)\n",
    "ax.set_title('TEST', fontsize = 20)\n",
    "targets = [0, 1]\n",
    "colors = ['r', 'b']\n",
    "for target, color in zip(targets,colors):\n",
    "    indicesToKeep = test['Result'] == target\n",
    "    ax.scatter(test.loc[indicesToKeep, 'principal component 1']\n",
    "               , test.loc[indicesToKeep, 'principal component 2']\n",
    "               , c = color\n",
    "               , s = 50\n",
    "              , alpha = 0.4)\n",
    "ax.legend(targets)\n",
    "ax.grid()\n"
   ]
  },
  {
   "cell_type": "code",
   "execution_count": null,
   "metadata": {},
   "outputs": [],
   "source": [
    "test[\"color\"] = test[\"label\"] == test[\"pred\"]\n",
    "c = []\n",
    "for i in test[\"color\"]:\n",
    "    if i:\n",
    "        c.append('g')\n",
    "    else:\n",
    "        c.append('r')\n",
    "fig = plt.figure(figsize = (16,8))\n",
    "plt.xticks(x_l_1)\n",
    "plt.yticks(y_l_1)\n",
    "ax = fig.add_subplot(1,1,1) \n",
    "ax.set_xlabel('Principal Component 1', fontsize = 15)\n",
    "ax.set_ylabel('Principal Component 2', fontsize = 15)\n",
    "ax.set_title('TEST', fontsize = 20)\n",
    "targets = [0, 1]\n",
    "colors = ['r', 'b']\n",
    "for target, color in zip(targets,colors):\n",
    "    indicesToKeep = test['Result'] == target\n",
    "    ax.scatter(test.loc[indicesToKeep, 'principal component 1']\n",
    "               , test.loc[indicesToKeep, 'principal component 2']\n",
    "               , c = color\n",
    "               , s = 50\n",
    "              , alpha = 0.4)\n",
    "ax.legend(targets)\n",
    "ax.grid()"
   ]
  },
  {
   "cell_type": "code",
   "execution_count": null,
   "metadata": {},
   "outputs": [],
   "source": [
    "accuracy_score(test.pred,test.label)"
   ]
  },
  {
   "cell_type": "code",
   "execution_count": null,
   "metadata": {},
   "outputs": [],
   "source": [
    "def inWindows(x1,x2,y1,y2,x,y):\n",
    "    if (x >= x1 and x < x2) and (y>=y1 and y<y2):\n",
    "        return True\n",
    "    return False"
   ]
  },
  {
   "cell_type": "code",
   "execution_count": null,
   "metadata": {},
   "outputs": [],
   "source": [
    "def genDensityMetric(data,x_l,y_l):\n",
    "    \"\"\"\n",
    "     get count of data points in a grid line and accuracy percentage\n",
    "    \"\"\"\n",
    "    densityMap = []\n",
    "    count = len(data)\n",
    "    for x in range(len(x_l)-1):\n",
    "        for y in range(len(y_l)-1):\n",
    "            results = []\n",
    "            preds = []\n",
    "            density = 0\n",
    "            for i in data.values:\n",
    "                if(inWindows(x_l[x],x_l[x+1],y_l[y],y_l[y+1],i[0],i[1])):\n",
    "                    results.append(i[3])\n",
    "                    preds.append(i[2])\n",
    "                    density = density + 1\n",
    "            if density != 0:\n",
    "                f1 = f1_score(results,preds,average='micro')\n",
    "                acc = accuracy_score(results,preds)\n",
    "                rec = recall_score(results,preds, average='micro')\n",
    "                prec = precision_score(results,preds, average='micro')\n",
    "                densityMap.append([x_l[x+1],y_l[y+1],density,density/count,acc,f1,rec,prec])\n",
    "    dm = pd.DataFrame(data = densityMap, columns=['x','y','num points','density','accuracy score','f1 score','recall score','precision score'])\n",
    "    return dm\n",
    "            "
   ]
  },
  {
   "cell_type": "code",
   "execution_count": null,
   "metadata": {},
   "outputs": [],
   "source": [
    "densityMap = genDensityMetric(test,x_l_1,y_l_1)"
   ]
  },
  {
   "cell_type": "code",
   "execution_count": null,
   "metadata": {},
   "outputs": [],
   "source": [
    "densityMap.sort_values(by=['density'],ascending=False)"
   ]
  },
  {
   "cell_type": "code",
   "execution_count": null,
   "metadata": {},
   "outputs": [],
   "source": [
    "densityMap.sort_values(by=['accuracy score'],ascending=False)"
   ]
  },
  {
   "cell_type": "code",
   "execution_count": null,
   "metadata": {},
   "outputs": [],
   "source": []
  }
 ],
 "metadata": {
  "kernelspec": {
   "display_name": "Python 3",
   "language": "python",
   "name": "python3"
  },
  "language_info": {
   "codemirror_mode": {
    "name": "ipython",
    "version": 3
   },
   "file_extension": ".py",
   "mimetype": "text/x-python",
   "name": "python",
   "nbconvert_exporter": "python",
   "pygments_lexer": "ipython3",
   "version": "3.7.3"
  }
 },
 "nbformat": 4,
 "nbformat_minor": 2
}
