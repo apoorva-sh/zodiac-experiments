{
 "cells": [
  {
   "cell_type": "code",
   "execution_count": null,
   "metadata": {},
   "outputs": [],
   "source": [
    "def map(val_1,val_2):\n",
    "    x_val = round(min_1)\n",
    "    y_val = round(min_2)\n",
    "    for i in range(10):\n",
    "        if val_1> x_l[i] and val_1<=x_l[i+1]:\n",
    "            x_val = x_l[i+1]\n",
    "            break\n",
    "    for i in range(10):\n",
    "        if val_1> y_l[i] and val_1<=y_l[i+1]:\n",
    "            y_val = y_l[i+1]\n",
    "            break\n",
    "    return([x_val,y_val])\n",
    "\n",
    "\n",
    "data = []\n",
    "i = 0\n",
    "acc = 0\n",
    "for r in test.values:\n",
    "    grid = map(r[0],r[1])\n",
    "    if(r[4]==True):\n",
    "        acc = 1\n",
    "    else:\n",
    "        acc = 0\n",
    "    data.append([grid[0],grid[1],1,acc])\n",
    "    i = i+1\n",
    "\n",
    "data\n",
    "\n",
    "dataframe = pd.DataFrame(data = data,columns=[\"X_grid\",\"Y_grid\",\"count\",\"correct\"])\n",
    "\n",
    "dataframe\n",
    "\n",
    "data = dataframe.groupby(['X_grid','Y_grid']).sum()\n",
    "\n",
    "data[\"accuracy\"] = data[\"correct\"]*100/data[\"count\"]\n",
    "\n",
    "data\n",
    "\n",
    "data.reset_index(inplace=True)\n",
    "\n",
    "data"
   ]
  }
 ],
 "metadata": {
  "kernelspec": {
   "display_name": "Python 3",
   "language": "python",
   "name": "python3"
  },
  "language_info": {
   "codemirror_mode": {
    "name": "ipython",
    "version": 3
   },
   "file_extension": ".py",
   "mimetype": "text/x-python",
   "name": "python",
   "nbconvert_exporter": "python",
   "pygments_lexer": "ipython3",
   "version": "3.7.3"
  }
 },
 "nbformat": 4,
 "nbformat_minor": 2
}
